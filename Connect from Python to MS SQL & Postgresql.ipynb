{
 "cells": [
  {
   "cell_type": "markdown",
   "metadata": {},
   "source": [
    "# MS SQL CONNECTION"
   ]
  },
  {
   "cell_type": "code",
   "execution_count": null,
   "metadata": {},
   "outputs": [],
   "source": [
    "import pyodbc\n",
    "import pandas as pd\n",
    "sql_conn = pyodbc.connect('DRIVER={ODBC Driver 17 for SQL Server};'\n",
    "                          'SERVER=<SERVER>;'\n",
    "                          'DATABASE=<DATABASE>;'\n",
    "                          'uid=<USERNAME>;pwd=<PASSWORD>')"
   ]
  },
  {
   "cell_type": "code",
   "execution_count": null,
   "metadata": {},
   "outputs": [],
   "source": [
    "task = \"SELECT TOP 20 * FROM table\""
   ]
  },
  {
   "cell_type": "code",
   "execution_count": null,
   "metadata": {},
   "outputs": [],
   "source": [
    "data = pd.read_sql(task, sql_conn)\n",
    "data"
   ]
  },
  {
   "cell_type": "markdown",
   "metadata": {},
   "source": [
    "# POSGRES CONNECTION"
   ]
  },
  {
   "cell_type": "code",
   "execution_count": null,
   "metadata": {},
   "outputs": [],
   "source": [
    "import psycopg2\n",
    "import pandas.io.sql as psql\n",
    "import pandas as pd\n",
    "try:\n",
    "    connection = psycopg2.connect(user = \"<USERNAME>\",\n",
    "                                  password = \"<PASSWORD>\",\n",
    "                                  host = \"<SERVER>\",\n",
    "                                  port = \"5432\",\n",
    "                                  database = \"<NAME OF THE DATABASE>\")\n",
    "    cursor = connection.cursor()\n",
    "    # Print PostgreSQL Connection properties\n",
    "    print ( connection.get_dsn_parameters(),\"\\n\")\n",
    "    # Print PostgreSQL version\n",
    "    df = pd.read_sql_query(\"\"\"\n",
    "    \n",
    "SELECT X\n",
    "FROM Y\n",
    "    \n",
    "LIMIT 10\n",
    "   \"\"\" , con=connection)\n",
    "    record = cursor.fetchone()\n",
    "  #  dataframe = psql.frame_query(\"SELECT * FROM tab_sazky limit 10, connection)\n",
    "   # dat = sqlio.read_sql_query(sql, conn)\n",
    "    print(\"You are connected to - \", record,\"\\n\")\n",
    "except (Exception, psycopg2.Error) as error :\n",
    "    print (\"Error while connecting to PostgreSQL\", error)\n",
    "finally:\n",
    "    #closing database connection.\n",
    "        if(connection):\n",
    "            cursor.close()\n",
    "            connection.close()\n",
    "            print(\"PostgreSQL connection is closed\")\n",
    "df.head()"
   ]
  }
 ],
 "metadata": {
  "kernelspec": {
   "display_name": "Python 3",
   "language": "python",
   "name": "python3"
  },
  "language_info": {
   "codemirror_mode": {
    "name": "ipython",
    "version": 3
   },
   "file_extension": ".py",
   "mimetype": "text/x-python",
   "name": "python",
   "nbconvert_exporter": "python",
   "pygments_lexer": "ipython3",
   "version": "3.7.1"
  }
 },
 "nbformat": 4,
 "nbformat_minor": 2
}
