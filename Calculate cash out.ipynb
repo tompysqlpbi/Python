{
 "cells": [
  {
   "cell_type": "markdown",
   "metadata": {},
   "source": [
    "# EC CALCULATOR"
   ]
  },
  {
   "cell_type": "code",
   "execution_count": 1,
   "metadata": {
    "scrolled": true
   },
   "outputs": [
    {
     "data": {
      "text/html": [
       "<div>\n",
       "<style scoped>\n",
       "    .dataframe tbody tr th:only-of-type {\n",
       "        vertical-align: middle;\n",
       "    }\n",
       "\n",
       "    .dataframe tbody tr th {\n",
       "        vertical-align: top;\n",
       "    }\n",
       "\n",
       "    .dataframe thead th {\n",
       "        text-align: right;\n",
       "    }\n",
       "</style>\n",
       "<table border=\"1\" class=\"dataframe\">\n",
       "  <thead>\n",
       "    <tr style=\"text-align: right;\">\n",
       "      <th></th>\n",
       "      <th>From</th>\n",
       "      <th>To</th>\n",
       "      <th>Margin</th>\n",
       "    </tr>\n",
       "  </thead>\n",
       "  <tbody>\n",
       "    <tr>\n",
       "      <th>0</th>\n",
       "      <td>1.01</td>\n",
       "      <td>1.2</td>\n",
       "      <td>7</td>\n",
       "    </tr>\n",
       "    <tr>\n",
       "      <th>1</th>\n",
       "      <td>1.21</td>\n",
       "      <td>2.1</td>\n",
       "      <td>10</td>\n",
       "    </tr>\n",
       "    <tr>\n",
       "      <th>2</th>\n",
       "      <td>2.11</td>\n",
       "      <td>2.3</td>\n",
       "      <td>13</td>\n",
       "    </tr>\n",
       "    <tr>\n",
       "      <th>3</th>\n",
       "      <td>2.31</td>\n",
       "      <td>2.5</td>\n",
       "      <td>15</td>\n",
       "    </tr>\n",
       "    <tr>\n",
       "      <th>4</th>\n",
       "      <td>2.51</td>\n",
       "      <td>2.7</td>\n",
       "      <td>16</td>\n",
       "    </tr>\n",
       "    <tr>\n",
       "      <th>5</th>\n",
       "      <td>2.71</td>\n",
       "      <td>3.0</td>\n",
       "      <td>18</td>\n",
       "    </tr>\n",
       "    <tr>\n",
       "      <th>6</th>\n",
       "      <td>3.01</td>\n",
       "      <td>3.5</td>\n",
       "      <td>20</td>\n",
       "    </tr>\n",
       "    <tr>\n",
       "      <th>7</th>\n",
       "      <td>3.51</td>\n",
       "      <td>4.0</td>\n",
       "      <td>22</td>\n",
       "    </tr>\n",
       "    <tr>\n",
       "      <th>8</th>\n",
       "      <td>4.01</td>\n",
       "      <td>4.5</td>\n",
       "      <td>24</td>\n",
       "    </tr>\n",
       "    <tr>\n",
       "      <th>9</th>\n",
       "      <td>4.51</td>\n",
       "      <td>5.0</td>\n",
       "      <td>26</td>\n",
       "    </tr>\n",
       "    <tr>\n",
       "      <th>10</th>\n",
       "      <td>5.01</td>\n",
       "      <td>5.5</td>\n",
       "      <td>28</td>\n",
       "    </tr>\n",
       "    <tr>\n",
       "      <th>11</th>\n",
       "      <td>5.51</td>\n",
       "      <td>6.0</td>\n",
       "      <td>30</td>\n",
       "    </tr>\n",
       "    <tr>\n",
       "      <th>12</th>\n",
       "      <td>6.01</td>\n",
       "      <td>6.5</td>\n",
       "      <td>32</td>\n",
       "    </tr>\n",
       "    <tr>\n",
       "      <th>13</th>\n",
       "      <td>6.51</td>\n",
       "      <td>7.0</td>\n",
       "      <td>35</td>\n",
       "    </tr>\n",
       "    <tr>\n",
       "      <th>14</th>\n",
       "      <td>7.01</td>\n",
       "      <td>8.0</td>\n",
       "      <td>40</td>\n",
       "    </tr>\n",
       "    <tr>\n",
       "      <th>15</th>\n",
       "      <td>8.01</td>\n",
       "      <td>10.0</td>\n",
       "      <td>45</td>\n",
       "    </tr>\n",
       "    <tr>\n",
       "      <th>16</th>\n",
       "      <td>10.01</td>\n",
       "      <td>15.0</td>\n",
       "      <td>50</td>\n",
       "    </tr>\n",
       "    <tr>\n",
       "      <th>17</th>\n",
       "      <td>15.01</td>\n",
       "      <td>25.0</td>\n",
       "      <td>55</td>\n",
       "    </tr>\n",
       "    <tr>\n",
       "      <th>18</th>\n",
       "      <td>25.01</td>\n",
       "      <td>50.0</td>\n",
       "      <td>60</td>\n",
       "    </tr>\n",
       "    <tr>\n",
       "      <th>19</th>\n",
       "      <td>50.01</td>\n",
       "      <td>9999.0</td>\n",
       "      <td>65</td>\n",
       "    </tr>\n",
       "  </tbody>\n",
       "</table>\n",
       "</div>"
      ],
      "text/plain": [
       "     From      To  Margin\n",
       "0    1.01     1.2       7\n",
       "1    1.21     2.1      10\n",
       "2    2.11     2.3      13\n",
       "3    2.31     2.5      15\n",
       "4    2.51     2.7      16\n",
       "5    2.71     3.0      18\n",
       "6    3.01     3.5      20\n",
       "7    3.51     4.0      22\n",
       "8    4.01     4.5      24\n",
       "9    4.51     5.0      26\n",
       "10   5.01     5.5      28\n",
       "11   5.51     6.0      30\n",
       "12   6.01     6.5      32\n",
       "13   6.51     7.0      35\n",
       "14   7.01     8.0      40\n",
       "15   8.01    10.0      45\n",
       "16  10.01    15.0      50\n",
       "17  15.01    25.0      55\n",
       "18  25.01    50.0      60\n",
       "19  50.01  9999.0      65"
      ]
     },
     "execution_count": 1,
     "metadata": {},
     "output_type": "execute_result"
    }
   ],
   "source": [
    "import pandas as pd\n",
    "\n",
    "raw_table = {\"From\":[1.01,1.21,2.11,2.31,2.51,2.71,3.01,3.51,4.01,4.51,5.01,5.51,6.01,6.51,7.01,8.01,10.01,15.01,25.01,50.01], \n",
    "\"To\":[1.2,2.1,2.3,2.5,2.7,3,3.5,4,4.5,5,5.5,6,6.5,7,8,10,15,25,50,9999],\n",
    "\"Margin\":[7,10,13,15,16,18,20,22,24,26,28,30,32,35,40,45,50,55,60,65]}\n",
    "\n",
    "margin_tab = pd.DataFrame(raw_table)\n",
    "margin_tab\n"
   ]
  },
  {
   "cell_type": "code",
   "execution_count": 2,
   "metadata": {},
   "outputs": [],
   "source": [
    "ec_margin = float(0.1)"
   ]
  },
  {
   "cell_type": "code",
   "execution_count": 3,
   "metadata": {},
   "outputs": [
    {
     "name": "stdout",
     "output_type": "stream",
     "text": [
      "Number of the matches: 3\n",
      "Your stake: 1000\n",
      "Your placed odd: 3\n",
      "ENDED Y/N: Y\n",
      "Your placed odd: 5\n",
      "ENDED Y/N: N\n",
      "Your actual odd: 4\n",
      "Your placed odd: 5\n",
      "ENDED Y/N: 2\n"
     ]
    }
   ],
   "source": [
    "enter = int(input(\"Number of the matches: \"))\n",
    "\n",
    "pl_odd = []\n",
    "ac_odd = []\n",
    "enda = []\n",
    "\n",
    "stake = int(input(\"Your stake: \"))\n",
    "\n",
    "\n",
    "while enter > 0:\n",
    "    \n",
    "    your_placed_odd = float(input(\"Your placed odd: \"))\n",
    "    \n",
    "    pl_odd.append(your_placed_odd)\n",
    "                  \n",
    "    ende = str(input(\"ENDED Y/N: \"))\n",
    "    \n",
    "    enda.append(ende)\n",
    "    \n",
    "    if ende == \"N\":\n",
    "    \n",
    "        your_actual_odd = float(input(\"Your actual odd: \"))\n",
    "        ac_odd.append(your_actual_odd)\n",
    "\n",
    "    else:\n",
    "        \n",
    "        ac_odd.append(1)\n",
    "    \n",
    "    enter = enter - 1\n",
    "                  \n"
   ]
  },
  {
   "cell_type": "code",
   "execution_count": 4,
   "metadata": {},
   "outputs": [
    {
     "data": {
      "text/plain": [
       "75.0"
      ]
     },
     "execution_count": 4,
     "metadata": {},
     "output_type": "execute_result"
    }
   ],
   "source": [
    "def multiplyList(myList) :\n",
    "     \n",
    "    # Multiply elements one by one\n",
    "    result = 1\n",
    "    for x in myList:\n",
    "         result = result * float(x) \n",
    "    return result \n",
    "multiplyList(pl_odd)"
   ]
  },
  {
   "cell_type": "code",
   "execution_count": 5,
   "metadata": {},
   "outputs": [],
   "source": [
    "raw_table = {\"placed odds\":pl_odd,\n",
    "            \"actual odds\":ac_odd,\n",
    "             \"ended\":enda        }"
   ]
  },
  {
   "cell_type": "code",
   "execution_count": 6,
   "metadata": {},
   "outputs": [
    {
     "data": {
      "text/html": [
       "<div>\n",
       "<style scoped>\n",
       "    .dataframe tbody tr th:only-of-type {\n",
       "        vertical-align: middle;\n",
       "    }\n",
       "\n",
       "    .dataframe tbody tr th {\n",
       "        vertical-align: top;\n",
       "    }\n",
       "\n",
       "    .dataframe thead th {\n",
       "        text-align: right;\n",
       "    }\n",
       "</style>\n",
       "<table border=\"1\" class=\"dataframe\">\n",
       "  <thead>\n",
       "    <tr style=\"text-align: right;\">\n",
       "      <th></th>\n",
       "      <th>placed odds</th>\n",
       "      <th>actual odds</th>\n",
       "      <th>ended</th>\n",
       "    </tr>\n",
       "  </thead>\n",
       "  <tbody>\n",
       "    <tr>\n",
       "      <th>0</th>\n",
       "      <td>3.0</td>\n",
       "      <td>1.0</td>\n",
       "      <td>Y</td>\n",
       "    </tr>\n",
       "    <tr>\n",
       "      <th>1</th>\n",
       "      <td>5.0</td>\n",
       "      <td>4.0</td>\n",
       "      <td>N</td>\n",
       "    </tr>\n",
       "    <tr>\n",
       "      <th>2</th>\n",
       "      <td>5.0</td>\n",
       "      <td>1.0</td>\n",
       "      <td>2</td>\n",
       "    </tr>\n",
       "  </tbody>\n",
       "</table>\n",
       "</div>"
      ],
      "text/plain": [
       "   placed odds  actual odds ended\n",
       "0          3.0          1.0     Y\n",
       "1          5.0          4.0     N\n",
       "2          5.0          1.0     2"
      ]
     },
     "execution_count": 6,
     "metadata": {},
     "output_type": "execute_result"
    }
   ],
   "source": [
    "import pandas as pd\n",
    "\n",
    "data = pd.DataFrame(raw_table)\n",
    "\n",
    "data"
   ]
  },
  {
   "cell_type": "code",
   "execution_count": 7,
   "metadata": {},
   "outputs": [],
   "source": [
    "marga = []\n",
    "for i in data[\"placed odds\"]:\n",
    "    marga.append(margin_tab[(margin_tab[\"From\"] <= i)] ['Margin'].max())\n",
    "    \n",
    "data[\"margin\"] = marga"
   ]
  },
  {
   "cell_type": "code",
   "execution_count": 8,
   "metadata": {},
   "outputs": [],
   "source": [
    "no_w = []\n",
    "for aa in range(len((data[\"margin\"]))):\n",
    "    if data[\"ended\"][aa] == \"Y\":\n",
    "        no_w.append(1)\n",
    "    else:\n",
    "        no_w.append((1 - data[\"margin\"][aa]/100)/data[\"actual odds\"][aa])\n",
    "        \n",
    "\n",
    "data[\"no w\"] = no_w"
   ]
  },
  {
   "cell_type": "code",
   "execution_count": 9,
   "metadata": {},
   "outputs": [
    {
     "data": {
      "text/html": [
       "<div>\n",
       "<style scoped>\n",
       "    .dataframe tbody tr th:only-of-type {\n",
       "        vertical-align: middle;\n",
       "    }\n",
       "\n",
       "    .dataframe tbody tr th {\n",
       "        vertical-align: top;\n",
       "    }\n",
       "\n",
       "    .dataframe thead th {\n",
       "        text-align: right;\n",
       "    }\n",
       "</style>\n",
       "<table border=\"1\" class=\"dataframe\">\n",
       "  <thead>\n",
       "    <tr style=\"text-align: right;\">\n",
       "      <th></th>\n",
       "      <th>placed odds</th>\n",
       "      <th>actual odds</th>\n",
       "      <th>ended</th>\n",
       "      <th>margin</th>\n",
       "      <th>no w</th>\n",
       "    </tr>\n",
       "  </thead>\n",
       "  <tbody>\n",
       "    <tr>\n",
       "      <th>0</th>\n",
       "      <td>3.0</td>\n",
       "      <td>1.0</td>\n",
       "      <td>Y</td>\n",
       "      <td>18</td>\n",
       "      <td>1.000</td>\n",
       "    </tr>\n",
       "    <tr>\n",
       "      <th>1</th>\n",
       "      <td>5.0</td>\n",
       "      <td>4.0</td>\n",
       "      <td>N</td>\n",
       "      <td>26</td>\n",
       "      <td>0.185</td>\n",
       "    </tr>\n",
       "    <tr>\n",
       "      <th>2</th>\n",
       "      <td>5.0</td>\n",
       "      <td>1.0</td>\n",
       "      <td>2</td>\n",
       "      <td>26</td>\n",
       "      <td>0.740</td>\n",
       "    </tr>\n",
       "  </tbody>\n",
       "</table>\n",
       "</div>"
      ],
      "text/plain": [
       "   placed odds  actual odds ended  margin   no w\n",
       "0          3.0          1.0     Y      18  1.000\n",
       "1          5.0          4.0     N      26  0.185\n",
       "2          5.0          1.0     2      26  0.740"
      ]
     },
     "execution_count": 9,
     "metadata": {},
     "output_type": "execute_result"
    }
   ],
   "source": [
    "data"
   ]
  },
  {
   "cell_type": "code",
   "execution_count": 10,
   "metadata": {},
   "outputs": [
    {
     "name": "stdout",
     "output_type": "stream",
     "text": [
      "4.0\n",
      "0.1369\n"
     ]
    }
   ],
   "source": [
    "act_odds_sum = multiplyList(data[\"actual odds\"])\n",
    "\n",
    "no_w_sum = multiplyList(data[\"no w\"])\n",
    "\n",
    "sum_odds = multiplyList(data[\"placed odds\"])\n",
    "\n",
    "Eventual_win = stake * multiplyList(pl_odd)\n",
    "\n",
    "early_cash_out = Eventual_win * no_w_sum ** (1 - ec_margin)\n",
    "\n",
    "print(act_odds_sum)\n",
    "\n",
    "print(no_w_sum)"
   ]
  },
  {
   "cell_type": "code",
   "execution_count": 11,
   "metadata": {},
   "outputs": [
    {
     "name": "stdout",
     "output_type": "stream",
     "text": [
      "Your stake is:  1000\n",
      "Total odds:  75.0\n",
      "Eventual win:  75000.0\n",
      "Actual possible cash out:  12526.344938398712\n"
     ]
    }
   ],
   "source": [
    "print(\"Your stake is: \", stake)\n",
    "\n",
    "print(\"Total odds: \",sum_odds)\n",
    "\n",
    "print(\"Eventual win: \",Eventual_win)\n",
    "\n",
    "print(\"Actual possible cash out: \",early_cash_out)"
   ]
  }
 ],
 "metadata": {
  "kernelspec": {
   "display_name": "Python 3",
   "language": "python",
   "name": "python3"
  },
  "language_info": {
   "codemirror_mode": {
    "name": "ipython",
    "version": 3
   },
   "file_extension": ".py",
   "mimetype": "text/x-python",
   "name": "python",
   "nbconvert_exporter": "python",
   "pygments_lexer": "ipython3",
   "version": "3.7.1"
  }
 },
 "nbformat": 4,
 "nbformat_minor": 2
}
