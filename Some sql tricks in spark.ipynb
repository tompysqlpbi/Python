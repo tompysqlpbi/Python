{
 "cells": [
  {
   "cell_type": "markdown",
   "metadata": {},
   "source": [
    "## SPARK SQL"
   ]
  },
  {
   "cell_type": "markdown",
   "metadata": {},
   "source": [
    "# WHAT CUSTOMERS MOSTLY BUY TOGETHER"
   ]
  },
  {
   "cell_type": "code",
   "execution_count": 1,
   "metadata": {},
   "outputs": [],
   "source": [
    "from pyspark.sql import SparkSession"
   ]
  },
  {
   "cell_type": "code",
   "execution_count": 2,
   "metadata": {},
   "outputs": [],
   "source": [
    "spark = SparkSession.builder.appName(\"Customer_trolley\").getOrCreate()\n",
    "dataset = spark.read.csv(r\"C:\\Users\\stytom\\Plocha\\bought_togother.csv\", inferSchema=True, header=True)"
   ]
  },
  {
   "cell_type": "code",
   "execution_count": 3,
   "metadata": {},
   "outputs": [
    {
     "name": "stdout",
     "output_type": "stream",
     "text": [
      "+--------+---+\n",
      "|order_id|sku|\n",
      "+--------+---+\n",
      "|       1|  A|\n",
      "|       1|  B|\n",
      "|       1|  C|\n",
      "|       2|  B|\n",
      "|       2|  A|\n",
      "|       3|  A|\n",
      "|       4|  B|\n",
      "|       4|  C|\n",
      "+--------+---+\n",
      "\n"
     ]
    }
   ],
   "source": [
    "# raw_data\n",
    "dataset.createOrReplaceTempView(\"data\")\n",
    "\n",
    "spark.sql(\"\"\"\n",
    "SELECT *\n",
    "FROM data\n",
    "\n",
    "\"\"\").show()"
   ]
  },
  {
   "cell_type": "code",
   "execution_count": 4,
   "metadata": {
    "scrolled": true
   },
   "outputs": [
    {
     "name": "stdout",
     "output_type": "stream",
     "text": [
      "+--------+-----------+--------------+\n",
      "|orig_sku|bought_with|times_togother|\n",
      "+--------+-----------+--------------+\n",
      "|       B|          C|             2|\n",
      "|       A|          C|             1|\n",
      "|       C|          B|             2|\n",
      "|       C|          A|             1|\n",
      "|       B|          A|             2|\n",
      "|       A|          B|             2|\n",
      "+--------+-----------+--------------+\n",
      "\n"
     ]
    }
   ],
   "source": [
    "dataset.createOrReplaceTempView(\"items\")\n",
    "\n",
    "spark.sql(\"\"\"\n",
    "SELECT a.sku orig_sku, b.sku bought_with, count(*) times_togother\n",
    "FROM items as a\n",
    "inner join items as b on a.order_id = b.order_id and a.sku != b.sku\n",
    "group by a.sku, b.sku\n",
    "\n",
    "\"\"\").show()"
   ]
  },
  {
   "cell_type": "markdown",
   "metadata": {},
   "source": [
    "## CLIENTS BETTING AGAINS THEMSELVES"
   ]
  },
  {
   "cell_type": "code",
   "execution_count": 5,
   "metadata": {},
   "outputs": [],
   "source": [
    "dataset1 = spark.read.csv(r\"C:\\Users\\stytom\\Plocha\\matches.csv\", inferSchema=True, header=True)"
   ]
  },
  {
   "cell_type": "code",
   "execution_count": 6,
   "metadata": {},
   "outputs": [
    {
     "name": "stdout",
     "output_type": "stream",
     "text": [
      "+--------------------+------+--------+--------------+--------------------+---+-----+\n",
      "|number of the ticket|client|   sport|        league|               teams|tip|stake|\n",
      "+--------------------+------+--------+--------------+--------------------+---+-----+\n",
      "|                 222|  1111|football|Premier league|    Brighton - Leeds|  1|  165|\n",
      "|                 223|  2222|football|Premier league|    Brighton - Leeds|  1|  440|\n",
      "|                 224|  3333|football|Premier league|    Brighton - Leeds|  1|  320|\n",
      "|                 225|  4444|football|Premier league|    Brighton - Leeds|  2|  622|\n",
      "|                 226|  1111|  hockey|           NHL|    Ducks - Penguins|  1|  206|\n",
      "|                 227|  2222|  hockey|           NHL|    Ducks - Penguins|  1|  257|\n",
      "|                 228|  3333|  hockey|           NHL|   Senators - Flyers|  2|  937|\n",
      "|                 229|  4444|  hockey|           NHL|   Senators - Flyers|  1|  590|\n",
      "|                 230|  1111|handball|       Germany|    Munchen - Berlin|  1|  708|\n",
      "|                 231|  2222|football|       Serie A|    Juventus - Lazio|  0|  197|\n",
      "|                 232|  3333|football|       Serie A|    Juventus - Lazio|  1|  627|\n",
      "|                 233|  4444|football|       Serie A|    Juventus - Lazio|  2|  370|\n",
      "|                 234|  1111|football|Premier league|   Chelsea - Norwich|  0|  144|\n",
      "|                 235|  2222|football|Premier league|   Chelsea - Norwich|  1|  494|\n",
      "|                 236|  3333|football|    Bundesliga|Dortmund - Norimberk|  2|  383|\n",
      "|                 237|  4444|football|    Bundesliga|Dortmund - Norimberk|  1|  542|\n",
      "|                 238|  1111|football|    Bundesliga|Dortmund - Norimberk|  2|  615|\n",
      "|                 239|  2222|football|    Bundesliga|Dortmund - Norimberk|  1|  384|\n",
      "|                 240|  3333|football|    Bundesliga| Bayern - Leverkusen|  2|  187|\n",
      "|                 241|  4444|football|    Bundesliga|Wolfsburg - Frank...|  2|  215|\n",
      "+--------------------+------+--------+--------------+--------------------+---+-----+\n",
      "only showing top 20 rows\n",
      "\n"
     ]
    }
   ],
   "source": [
    "dataset1.createOrReplaceTempView(\"data\")\n",
    "\n",
    "spark.sql(\"\"\"\n",
    "SELECT *\n",
    "FROM data\n",
    "\n",
    "\"\"\").show()"
   ]
  },
  {
   "cell_type": "code",
   "execution_count": 7,
   "metadata": {},
   "outputs": [
    {
     "name": "stdout",
     "output_type": "stream",
     "text": [
      "+------+--------------+----------------+---+------+--------------+--------------------+---+\n",
      "|client|        league|           teams|tip|client|        league|               teams|tip|\n",
      "+------+--------------+----------------+---+------+--------------+--------------------+---+\n",
      "|  2222|Premier league|Brighton - Leeds|  1|  1111|Premier league|    Brighton - Leeds|  1|\n",
      "|  2222|Premier league|Brighton - Leeds|  1|  1111|           NHL|    Ducks - Penguins|  1|\n",
      "|  2222|Premier league|Brighton - Leeds|  1|  1111|       Germany|    Munchen - Berlin|  1|\n",
      "|  2222|Premier league|Brighton - Leeds|  1|  1111|Premier league|   Chelsea - Norwich|  0|\n",
      "|  2222|Premier league|Brighton - Leeds|  1|  1111|    Bundesliga|Dortmund - Norimberk|  2|\n",
      "|  2222|Premier league|Brighton - Leeds|  1|  1111|    Bundesliga|Wolfsburg - Frank...|  1|\n",
      "|  3333|Premier league|Brighton - Leeds|  1|  1111|Premier league|    Brighton - Leeds|  1|\n",
      "|  3333|Premier league|Brighton - Leeds|  1|  2222|Premier league|    Brighton - Leeds|  1|\n",
      "|  3333|Premier league|Brighton - Leeds|  1|  1111|           NHL|    Ducks - Penguins|  1|\n",
      "|  3333|Premier league|Brighton - Leeds|  1|  2222|           NHL|    Ducks - Penguins|  1|\n",
      "|  3333|Premier league|Brighton - Leeds|  1|  1111|       Germany|    Munchen - Berlin|  1|\n",
      "|  3333|Premier league|Brighton - Leeds|  1|  2222|       Serie A|    Juventus - Lazio|  0|\n",
      "|  3333|Premier league|Brighton - Leeds|  1|  1111|Premier league|   Chelsea - Norwich|  0|\n",
      "|  3333|Premier league|Brighton - Leeds|  1|  2222|Premier league|   Chelsea - Norwich|  1|\n",
      "|  3333|Premier league|Brighton - Leeds|  1|  1111|    Bundesliga|Dortmund - Norimberk|  2|\n",
      "|  3333|Premier league|Brighton - Leeds|  1|  2222|    Bundesliga|Dortmund - Norimberk|  1|\n",
      "|  3333|Premier league|Brighton - Leeds|  1|  1111|    Bundesliga|Wolfsburg - Frank...|  1|\n",
      "|  3333|Premier league|Brighton - Leeds|  1|  2222|    Bundesliga|Wolfsburg - Frank...|  0|\n",
      "|  3333|Premier league|Brighton - Leeds|  1|  2222|           NHL|    Jackets - Sabres|  1|\n",
      "|  3333|Premier league|Brighton - Leeds|  1|  2222|           NHL|  Red Wings - Oilers|  1|\n",
      "+------+--------------+----------------+---+------+--------------+--------------------+---+\n",
      "only showing top 20 rows\n",
      "\n"
     ]
    }
   ],
   "source": [
    "dataset1.createOrReplaceTempView(\"data\")\n",
    "\n",
    "spark.sql(\"\"\"\n",
    "\n",
    "\n",
    "SELECT *\n",
    "FROM (SELECT client, league, teams, tip FROM data) pc1\n",
    "JOIN (SELECT client, league, teams, tip FROM data) pc2 on pc1.client > pc2.client\n",
    "\n",
    "\n",
    "\n",
    "\"\"\").show()"
   ]
  },
  {
   "cell_type": "code",
   "execution_count": 8,
   "metadata": {},
   "outputs": [
    {
     "name": "stdout",
     "output_type": "stream",
     "text": [
      "+--------+--------+-----------+-----------+-----------+--------+--------+\n",
      "|client_1|client_2|pc1_tickets|pc2_tickets|same_market|same_tip|diff_tip|\n",
      "+--------+--------+-----------+-----------+-----------+--------+--------+\n",
      "|    3333|    2222|          8|          9|          4|       2|       2|\n",
      "|    3333|    1111|          8|          6|          2|       2|       0|\n",
      "|    2222|    1111|          9|          6|          5|       2|       3|\n",
      "|    4444|    2222|          5|          9|          4|       1|       3|\n",
      "|    4444|    3333|          5|          8|          5|       0|       5|\n",
      "|    4444|    1111|          5|          6|          3|       0|       3|\n",
      "+--------+--------+-----------+-----------+-----------+--------+--------+\n",
      "\n"
     ]
    }
   ],
   "source": [
    "dataset1.createOrReplaceTempView(\"data\")\n",
    "\n",
    "spark.sql(\"\"\"\n",
    "\n",
    "SELECT pc1.client client_1, pc2.client client_2, COUNT(DISTINCT pc1.league, pc1.teams) pc1_tickets, \n",
    "    COUNT(DISTINCT pc2.league, pc2.teams) pc2_tickets, \n",
    "    SUM(CASE WHEN pc1.teams = pc2.teams then 1 else 0 end) same_market,\n",
    "    \n",
    "    SUM(CASE WHEN pc1.teams = pc2.teams and pc1.tip = pc2.tip then 1 else 0 end) same_tip,\n",
    "    SUM(CASE WHEN pc1.teams = pc2.teams and pc1.tip != pc2.tip then 1 else 0 end) diff_tip\n",
    "    \n",
    "FROM (SELECT client, league, teams, tip FROM data) pc1\n",
    "JOIN (SELECT client, league, teams, tip FROM data) pc2 on pc1.client > pc2.client\n",
    "GROUP BY pc1.client, pc2.client\n",
    "ORDER BY 6 desc\n",
    "\n",
    "\"\"\").show()"
   ]
  }
 ],
 "metadata": {
  "kernelspec": {
   "display_name": "Python 3",
   "language": "python",
   "name": "python3"
  },
  "language_info": {
   "codemirror_mode": {
    "name": "ipython",
    "version": 3
   },
   "file_extension": ".py",
   "mimetype": "text/x-python",
   "name": "python",
   "nbconvert_exporter": "python",
   "pygments_lexer": "ipython3",
   "version": "3.7.1"
  }
 },
 "nbformat": 4,
 "nbformat_minor": 2
}
