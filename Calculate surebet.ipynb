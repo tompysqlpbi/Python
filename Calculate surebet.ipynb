{
 "cells": [
  {
   "cell_type": "markdown",
   "metadata": {},
   "source": [
    "# CALCULATE SUREBET"
   ]
  },
  {
   "cell_type": "code",
   "execution_count": 1,
   "metadata": {},
   "outputs": [
    {
     "name": "stdout",
     "output_type": "stream",
     "text": [
      "How many odds you will place? 3\n",
      "To what position? 2\n",
      "Odds for: 0 2.5\n",
      "Odds for: 1 2.5\n",
      "Odds for: 2 2.5\n"
     ]
    }
   ],
   "source": [
    "markets = int(input(\"How many odds you will place? \"))\n",
    "odds = []\n",
    "\n",
    "until = int(input(\"To what position? \"))\n",
    "\n",
    "for i in range(markets):\n",
    "    odds.append(1/float(input(\"Odds for: \" + str(i) + \" \")))"
   ]
  },
  {
   "cell_type": "code",
   "execution_count": 2,
   "metadata": {},
   "outputs": [
    {
     "name": "stdout",
     "output_type": "stream",
     "text": [
      "Margin on all maekets is:  16.67 %\n"
     ]
    }
   ],
   "source": [
    "print(\"Margin on all maekets is: \", round((1 - (1 / sum(odds)))*100, 2), \"%\")"
   ]
  },
  {
   "cell_type": "code",
   "execution_count": 3,
   "metadata": {},
   "outputs": [
    {
     "name": "stdout",
     "output_type": "stream",
     "text": [
      "Margin on this from 2. position is:  -66.67 %\n"
     ]
    }
   ],
   "source": [
    "print(\"Margin on this from \" + str(until) + \". position is: \", round((1 - int(until) / sum(odds))*100, 2), \"%\")"
   ]
  }
 ],
 "metadata": {
  "kernelspec": {
   "display_name": "Python 3",
   "language": "python",
   "name": "python3"
  },
  "language_info": {
   "codemirror_mode": {
    "name": "ipython",
    "version": 3
   },
   "file_extension": ".py",
   "mimetype": "text/x-python",
   "name": "python",
   "nbconvert_exporter": "python",
   "pygments_lexer": "ipython3",
   "version": "3.7.1"
  }
 },
 "nbformat": 4,
 "nbformat_minor": 2
}
