{
 "cells": [
  {
   "cell_type": "markdown",
   "metadata": {},
   "source": [
    "# MACHINE LEARNING"
   ]
  },
  {
   "cell_type": "code",
   "execution_count": null,
   "metadata": {},
   "outputs": [],
   "source": [
    "'''\n",
    "SUPERVISED LEARNING - Logistic regression, Decision tree, KNN, Random forest\n",
    "UNSUPERVISED LEARNING -K-Means, Hierarchial clustering\n",
    "REINFORCEMENT LEARNING - Markov decision process\n",
    "'''"
   ]
  },
  {
   "cell_type": "markdown",
   "metadata": {},
   "source": [
    "# LINEAR REGRESSION"
   ]
  },
  {
   "cell_type": "code",
   "execution_count": null,
   "metadata": {},
   "outputs": [],
   "source": [
    "#Import libraries\n",
    "import pandas as pd\n",
    "import numpy as np\n",
    "from sklearn import linear_model \n",
    "\n",
    "#load Train and Test datasets\n",
    "#Identify feature and response variable(s) and \n",
    "#values must be numeric and numpy arrays \n",
    "\n",
    "x_train=input_variables_values_training_datasets \n",
    "y_train=target_variables_values_training_datasets \n",
    "x_test=input_variables_values_test_datasets \n",
    "\n",
    "#Create linear regression object\n",
    "linear = linear_model.linearRegression() \n",
    "\n",
    "#Train the model using the training sets and check score\n",
    "linear.fit(x_train, y_train) linear.score(x_train, y_train) \n",
    "\n",
    "#Equation coefficient and Intercept print('Coefficient: \\n', linear.coef_)\n",
    "print(' Intercept: \\n', linear. intercept_) \n",
    "\n",
    "#Predict Output\n",
    "predicted= linear.predict(x_test)"
   ]
  },
  {
   "cell_type": "markdown",
   "metadata": {},
   "source": [
    "# LOGISTIC REGRESSION"
   ]
  },
  {
   "cell_type": "code",
   "execution_count": null,
   "metadata": {},
   "outputs": [],
   "source": [
    "#Import Library \n",
    "from sklearn.linear_model import LogisticRegression \n",
    "\n",
    "#Assumed you have, X (predictor) and Y (target) \n",
    "#for training data set and x_test(predictor) of test_dataset \n",
    "#Create logistic regression object \n",
    "model - LogisticRegression() \n",
    "\n",
    "#Train the model using the training sets and check score \n",
    "model.fit(x, y) model.score(x, y) \n",
    "\n",
    "#Equation coefficient and Intercept \n",
    "print('Coefficient: \\n', model.coef) \n",
    "print(\"Intercept: \\n', model. intercept_) \n",
    "      \n",
    "#Predict Output predicted model\n",
    "predict(x_test)"
   ]
  },
  {
   "cell_type": "markdown",
   "metadata": {},
   "source": [
    "# DECISION TREE"
   ]
  },
  {
   "cell_type": "code",
   "execution_count": null,
   "metadata": {},
   "outputs": [],
   "source": [
    "#Import library\n",
    "from sklearn import tree\n",
    "\n",
    "# Assume you have x-predictor and y-target for training data and x_test of test dataset\n",
    "#Create tree object\n",
    "model = tree.DecisionTreeClassifier(criterion=\"gini\")\n",
    "\n",
    "#For classification here you can change the algorithm as gini or entropy\n",
    "# or for regression tree.DecisionTreeRegressor() for regression\n",
    "# Train the model using the training sets and check score\n",
    "model.fit(x,y)\n",
    "model.score(x,y)\n",
    "\n",
    "#Predict output\n",
    "predicted = model.predict(x_test)"
   ]
  },
  {
   "cell_type": "markdown",
   "metadata": {},
   "source": [
    "# K - MEAN"
   ]
  },
  {
   "cell_type": "code",
   "execution_count": null,
   "metadata": {},
   "outputs": [],
   "source": [
    "#Import Library\n",
    "from sklearn.cluster import KMeans\n",
    "#Assured you have, X (attributes) for training data set nand x_test(attributes) of test_dataset\n",
    "#freate KNeighbors classifier object model\n",
    "\n",
    "k_means = KMeans(n_clusters = 3, randon_state = 0)\n",
    "#xTrain the model using the training sets and check score \n",
    "model.fit(X)\n",
    "\n",
    "#predict Output\n",
    "predicted = model.predict(x_test)"
   ]
  },
  {
   "cell_type": "markdown",
   "metadata": {},
   "source": [
    "# RANDOM FOREST"
   ]
  },
  {
   "cell_type": "code",
   "execution_count": null,
   "metadata": {},
   "outputs": [],
   "source": [
    "#Import library\n",
    "from sklearn.ensemble import RandomForrestClassifier\n",
    "\n",
    "#Assumed you have x-predictor and y-target for training data set and x_test of test dataset\n",
    "#Create Random Forest object\n",
    "model = RandomForestClassifier()\n",
    "\n",
    "# Train the model using the training sets and check score\n",
    "model.fit(x,y)\n",
    "\n",
    "#Predict output\n",
    "predicted = model.predict(x_test)"
   ]
  },
  {
   "cell_type": "markdown",
   "metadata": {},
   "source": [
    "# DIMENSIONALITY REDUCTION ALGORITHMS"
   ]
  },
  {
   "cell_type": "code",
   "execution_count": null,
   "metadata": {},
   "outputs": [],
   "source": [
    "#Import library\n",
    "from sklearn import decomposition\n",
    "\n",
    "#Assumed you have training and test data set as train and test\n",
    "#Create PCA object pca = decomposition.FactorAnalysis()\n",
    "#Reduced the dimension of training dataset using PCA\n",
    "train_reduced = pca.fit_transform(train)\n",
    "\n",
    "#Reduced the dimension of test dataset\n",
    "test_reduced = pca.transform(test)"
   ]
  },
  {
   "cell_type": "markdown",
   "metadata": {},
   "source": [
    "# GRADIENT BOOSTING AND ADABOOST"
   ]
  },
  {
   "cell_type": "code",
   "execution_count": null,
   "metadata": {},
   "outputs": [],
   "source": [
    "#Import library\n",
    "from sklearn.ensemble import GradientBoostingClassifier\n",
    "\n",
    "# X-predictor, y-target for training dataset and x_test of test_dataset\n",
    "#Create Gradient Boosting Classifier object\n",
    "model = GradientBoostingClassifier(n_estimators=100,learning_rate=1.0, max_depth=1, random_state=0)\n",
    "\n",
    "#Train the model using the training sets and check score\n",
    "model.fit(x,y)\n",
    "\n",
    "#Predict output\n",
    "predicted = model.predict(x_test)"
   ]
  },
  {
   "cell_type": "markdown",
   "metadata": {},
   "source": [
    "# SVM - SUPPORT VECTOR MACHINE"
   ]
  },
  {
   "cell_type": "code",
   "execution_count": null,
   "metadata": {},
   "outputs": [],
   "source": [
    "#Import library\n",
    "from sklearn import svm\n",
    "# Assumed you have x-predictor and y-target for training data set and x:test of test:dataset\n",
    "#Create SVM classification object\n",
    "model = svm.svc()\n",
    "\n",
    "#There are various options associated with it, this is simple for classification\n",
    "#Train the model using the training set and check score\n",
    "model.fit(x,y)\n",
    "model.score(x,y)\n",
    "\n",
    "#Predict output\n",
    "predicted = model.predict(x_test)"
   ]
  },
  {
   "cell_type": "markdown",
   "metadata": {},
   "source": [
    "# NAIVE BAYES"
   ]
  },
  {
   "cell_type": "code",
   "execution_count": null,
   "metadata": {},
   "outputs": [],
   "source": [
    "#Import library\n",
    "from sklearn.naive_bayes import GaussianNB\n",
    "\n",
    "# x-predictor, y-terget of test test_dataset\n",
    "#Create SVM classification object model - GaussianNB()\n",
    "#there is other distribution for multinomial classes like Bernoulli Naive Bayes\n",
    "#Train the model using the training sets and check score\n",
    "model.fit(x,y)\n",
    "\n",
    "#Predict output\n",
    "predicted = model.predict(x_test)"
   ]
  },
  {
   "cell_type": "markdown",
   "metadata": {},
   "source": [
    "# KNN - K - NEAREST NEIGHBOURS"
   ]
  },
  {
   "cell_type": "code",
   "execution_count": null,
   "metadata": {},
   "outputs": [],
   "source": [
    "#Import library\n",
    "from sklearn.neighbours import KNeighboursClassifier\n",
    "\n",
    "# x-predictor, y-target for training data set and x_test of test_dataset\n",
    "#Create KNeighborsClassifier(n=neighbors=6)\n",
    "#default value for n_neighbors is 5\n",
    "#Train the model using the training sets and check score\n",
    "model.fit(x,y)\n",
    "\n",
    "#Predict output\n",
    "predicted = model.predict(x_test)"
   ]
  }
 ],
 "metadata": {
  "kernelspec": {
   "display_name": "Python 3",
   "language": "python",
   "name": "python3"
  },
  "language_info": {
   "codemirror_mode": {
    "name": "ipython",
    "version": 3
   },
   "file_extension": ".py",
   "mimetype": "text/x-python",
   "name": "python",
   "nbconvert_exporter": "python",
   "pygments_lexer": "ipython3",
   "version": "3.7.1"
  }
 },
 "nbformat": 4,
 "nbformat_minor": 2
}
