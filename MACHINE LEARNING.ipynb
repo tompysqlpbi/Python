{
 "cells": [
  {
   "cell_type": "markdown",
   "metadata": {},
   "source": [
    "# MACHINE LEARNING"
   ]
  },
  {
   "cell_type": "code",
   "execution_count": null,
   "metadata": {},
   "outputs": [],
   "source": [
    "'''\n",
    "SUPERVISED LEARNING - Logistic regression, Decision tree, KNN, Random forest\n",
    "UNSUPERVISED LEARNING -K-Means, Hierarchial clustering\n",
    "REINFORCEMENT LEARNING - Markov decision process\n",
    "'''"
   ]
  },
  {
   "cell_type": "markdown",
   "metadata": {},
   "source": [
    "## LINEAR REGRESSION"
   ]
  },
  {
   "cell_type": "code",
   "execution_count": null,
   "metadata": {},
   "outputs": [],
   "source": [
    "#Import libraries\n",
    "import pandas as pd\n",
    "import numpy as np\n",
    "from sklearn import linear_model \n",
    "\n",
    "#load Train and Test datasets\n",
    "#Identify feature and response variable(s) and \n",
    "#values must be numeric and numpy arrays \n",
    "\n",
    "x_train=input_variables_values_training_datasets \n",
    "y_train=target_variables_values_training_datasets \n",
    "x_test=input_variables_values_test_datasets \n",
    "\n",
    "#Create linear regression object\n",
    "linear = linear_model.linearRegression() \n",
    "\n",
    "#Train the model using the training sets and check score\n",
    "linear.fit(x_train, y_train) linear.score(x_train, y_train) \n",
    "\n",
    "#Equation coefficient and Intercept print('Coefficient: \\n', linear.coef_)\n",
    "print(' Intercept: \\n', linear. intercept_) \n",
    "\n",
    "#Predict Output\n",
    "predicted= linear.predict(x_test)"
   ]
  },
  {
   "cell_type": "markdown",
   "metadata": {},
   "source": [
    "## LOGISTIC REGRESSION"
   ]
  },
  {
   "cell_type": "code",
   "execution_count": null,
   "metadata": {},
   "outputs": [],
   "source": [
    "#Import Library \n",
    "from sklearn.linear_model import LogisticRegression \n",
    "#Assumed you have, X (predictor) and Y (target) \n",
    "#for training data set and x_test(predictor) of test_dataset \n",
    "#Create logistic regression object \n",
    "model - LogisticRegression() \n",
    "#Train the model using the training sets and check score \n",
    "model.fit(x, y) model.score(x, y) \n",
    "#Equation coefficient and Intercept \n",
    "print('Coefficient: \\n', model.coef) \n",
    "print(\"Intercept: \\n', model. intercept_) \n",
    "#Predict Output predicted model. \n",
    "predict(x_test)"
   ]
  },
  {
   "cell_type": "code",
   "execution_count": null,
   "metadata": {},
   "outputs": [],
   "source": []
  },
  {
   "cell_type": "code",
   "execution_count": null,
   "metadata": {},
   "outputs": [],
   "source": []
  }
 ],
 "metadata": {
  "kernelspec": {
   "display_name": "Python 3",
   "language": "python",
   "name": "python3"
  },
  "language_info": {
   "codemirror_mode": {
    "name": "ipython",
    "version": 3
   },
   "file_extension": ".py",
   "mimetype": "text/x-python",
   "name": "python",
   "nbconvert_exporter": "python",
   "pygments_lexer": "ipython3",
   "version": "3.7.4"
  }
 },
 "nbformat": 4,
 "nbformat_minor": 2
}
